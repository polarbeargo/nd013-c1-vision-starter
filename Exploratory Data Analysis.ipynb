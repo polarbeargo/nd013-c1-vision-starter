{
 "cells": [
  {
   "cell_type": "markdown",
   "metadata": {},
   "source": [
    "# Explore the dataset\n",
    "\n",
    "\n",
    "In this notebook, we will perform an EDA (Exploratory Data Analysis) on the processed Waymo dataset (data in the `processed` folder). In the first part, you will create a function to display "
   ]
  },
  {
   "cell_type": "code",
   "execution_count": null,
   "metadata": {},
   "outputs": [],
   "source": [
    "from utils import get_dataset\n",
    "import matplotlib.pyplot as plt\n",
    "from matplotlib.patches import Rectangle\n",
    "import numpy as np\n",
    "import seaborn as sns\n",
    "%matplotlib inline"
   ]
  },
  {
   "cell_type": "code",
   "execution_count": null,
   "metadata": {},
   "outputs": [],
   "source": [
    "data = \"/home/workspace/data/processed/**/*.tfrecord\"\n",
    "dataset = get_dataset(data)"
   ]
  },
  {
   "cell_type": "markdown",
   "metadata": {},
   "source": [
    "## Write a function to display an image and the bounding boxes\n",
    "\n",
    "Implement the `display_instances` function below. This function takes a batch as an input and display an image with its corresponding bounding boxes. The only requirement is that the classes should be color coded (eg, vehicles in red, pedestrians in blue, cyclist in green)."
   ]
  },
  {
   "cell_type": "code",
   "execution_count": null,
   "metadata": {},
   "outputs": [],
   "source": [
    "def display_instances(batch):\n",
    "    \"\"\"\n",
    "    This function takes a batch from the dataset and display the image with \n",
    "    the associated bounding boxes.\n",
    "    \"\"\"\n",
    "    color_map = {1: 'red', 2: 'blue', 4: 'green'}\n",
    "    fig, ax = plt.subplots() \n",
    "    image = batch['image'].numpy()\n",
    "    ax.imshow(image)\n",
    "    h, w = image.shape[:2]\n",
    "    boxes = batch['groundtruth_boxes'].numpy()\n",
    "    classes = batch['groundtruth_classes'].numpy()\n",
    "    for box, label in zip(boxes, classes):\n",
    "        y1, x1, y2, x2 = box\n",
    "        x1 *= w\n",
    "        x2 *= w\n",
    "        y1 *= h\n",
    "        y2 *= h\n",
    "        box_w = x2 - x1\n",
    "        box_h = y2 - y1\n",
    "        draw = Rectangle((x1, y1), box_w, box_h, facecolor='none', edgecolor=color_map[label], linewidth=2)\n",
    "        ax.add_patch(draw)"
   ]
  },
  {
   "cell_type": "markdown",
   "metadata": {},
   "source": [
    "## Display 10 images \n",
    "\n",
    "Using the dataset created in the second cell and the function you just coded, display 10 random images with the associated bounding boxes. You can use the methods `take` and `shuffle` on the dataset."
   ]
  },
  {
   "cell_type": "code",
   "execution_count": null,
   "metadata": {},
   "outputs": [],
   "source": [
    "plt.figure(figsize=(10, 10))\n",
    "for i in range(10):\n",
    "    for batch in dataset.shuffle(75, reshuffle_each_iteration=True).take(1):\n",
    "        display_instances(batch)\n",
    "plt.show()"
   ]
  },
  {
   "cell_type": "markdown",
   "metadata": {},
   "source": [
    "## Additional EDA\n",
    "\n",
    "In this last part, you are free to perform any additional analysis of the dataset. What else would like to know about the data?\n",
    "For example, think about data distribution. So far, you have only looked at a single file..."
   ]
  },
  {
   "cell_type": "code",
   "execution_count": null,
   "metadata": {},
   "outputs": [],
   "source": [
    "labels = {1: 0, 2 : 0, 4: 0 }\n",
    "labels_dict= {1:[], 2:[], 4:[]}\n",
    "\n",
    "for batches in dataset.take(10000):    \n",
    "    count = {1: 0, 2 : 0, 4: 0 }\n",
    "    for i in batches[\"groundtruth_classes\"].numpy():\n",
    "        labels[i] += 1\n",
    "        count[i] += 1\n",
    "        labels_dict[i].append(count[i]) \n",
    "        percent = (count / len(dataset)) * 100\n",
    "        print(\"{:<20s}:   {} or {}%\".format(labels, count, percent))"
   ]
  },
  {
   "cell_type": "code",
   "execution_count": null,
   "metadata": {},
   "outputs": [],
   "source": [
    "label_map = {\"vehicles\": labels[1], \"pedestrians\": labels[2], \"cyclist\": labels[4]}\n",
    "BTYPE = 'vehicles'\n",
    "DISPLAY_BONDS = False\n",
    "data = label_map[\"vehicles\"].copy()\n",
    "plt.figure(figsize=(20,4))\n",
    "sns.distplot(data.scalar_coupling_constant)\n",
    "plt.title('vehicles'+BTYPE,fontsize=16)\n",
    "plt.show()"
   ]
  },
  {
   "cell_type": "code",
   "execution_count": null,
   "metadata": {},
   "outputs": [],
   "source": [
    "BTYPE = 'pedestrians'\n",
    "DISPLAY_BONDS = False\n",
    "data = label_map[\"pedestrians\"].copy()\n",
    "plt.figure(figsize=(20,4))\n",
    "sns.distplot(data.scalar_coupling_constant)\n",
    "plt.title('pedestrians'+BTYPE,fontsize=16)\n",
    "plt.show()"
   ]
  },
  {
   "cell_type": "code",
   "execution_count": null,
   "metadata": {},
   "outputs": [],
   "source": [
    "BTYPE = 'cyclist'\n",
    "DISPLAY_BONDS = False\n",
    "data = label_map[\"cyclist\"].copy()\n",
    "plt.figure(figsize=(20,4))\n",
    "sns.distplot(data.scalar_coupling_constant)\n",
    "plt.title('cyclist'+BTYPE,fontsize=16)\n",
    "plt.show()"
   ]
  }
 ],
 "metadata": {
  "kernelspec": {
   "display_name": "Python 3",
   "language": "python",
   "name": "python3"
  },
  "language_info": {
   "codemirror_mode": {
    "name": "ipython",
    "version": 3
   },
   "file_extension": ".py",
   "mimetype": "text/x-python",
   "name": "python",
   "nbconvert_exporter": "python",
   "pygments_lexer": "ipython3",
   "version": "3.6.9"
  }
 },
 "nbformat": 4,
 "nbformat_minor": 4
}
